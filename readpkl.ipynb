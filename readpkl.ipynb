{
 "cells": [
  {
   "cell_type": "code",
   "execution_count": 1,
   "metadata": {},
   "outputs": [],
   "source": [
    "import pickle "
   ]
  },
  {
   "cell_type": "code",
   "execution_count": 2,
   "metadata": {},
   "outputs": [
    {
     "name": "stdout",
     "output_type": "stream",
     "text": [
      "[[784.98805396   0.         299.59524899]\n",
      " [  0.         782.521886   282.04754046]\n",
      " [  0.           0.           1.        ]]\n"
     ]
    }
   ],
   "source": [
    "with open(\"cameraMatrix.pkl\", 'rb') as file:\n",
    "    data = pickle.load(file)\n",
    "print(data)"
   ]
  },
  {
   "cell_type": "code",
   "execution_count": 3,
   "metadata": {},
   "outputs": [
    {
     "name": "stdout",
     "output_type": "stream",
     "text": [
      "(array([[784.98805396,   0.        , 299.59524899],\n",
      "       [  0.        , 782.521886  , 282.04754046],\n",
      "       [  0.        ,   0.        ,   1.        ]]), array([[ 0.12715985, -0.94637457, -0.00635895, -0.01276327,  2.37891929]]))\n"
     ]
    }
   ],
   "source": [
    "with open(\"calibration.pkl\", 'rb') as file:\n",
    "    data = pickle.load(file)\n",
    "print(data)"
   ]
  },
  {
   "cell_type": "code",
   "execution_count": 4,
   "metadata": {},
   "outputs": [
    {
     "name": "stdout",
     "output_type": "stream",
     "text": [
      "[[ 0.12715985 -0.94637457 -0.00635895 -0.01276327  2.37891929]]\n"
     ]
    }
   ],
   "source": [
    "with open(\"dist.pkl\", 'rb') as file:\n",
    "    data = pickle.load(file)\n",
    "print(data)"
   ]
  },
  {
   "cell_type": "code",
   "execution_count": null,
   "metadata": {},
   "outputs": [],
   "source": []
  }
 ],
 "metadata": {
  "kernelspec": {
   "display_name": "Python 3",
   "language": "python",
   "name": "python3"
  },
  "language_info": {
   "codemirror_mode": {
    "name": "ipython",
    "version": 3
   },
   "file_extension": ".py",
   "mimetype": "text/x-python",
   "name": "python",
   "nbconvert_exporter": "python",
   "pygments_lexer": "ipython3",
   "version": "3.11.5"
  }
 },
 "nbformat": 4,
 "nbformat_minor": 2
}
